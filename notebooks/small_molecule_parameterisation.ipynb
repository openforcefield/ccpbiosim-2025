{
 "cells": [
  {
   "cell_type": "markdown",
   "id": "e8edb3f8",
   "metadata": {},
   "source": [
    "# Parameterising Small Molecules with OpenFF\n",
    "\n",
    "TODO: Add outline with clickable sections and clear workflow, clearly acknowledge where/ who material was taken from (mainly previous workshop), add jupyter cheat sheet...\n",
    "\n",
    "## The plan:\n",
    "\n",
    "| Action | Software|\n",
    "|--|--|\n",
    "| Load and inspect a force field | OpenFF Toolkit\n",
    "| Create a representation of your chemical system | OpenFF Toolkit\n",
    "| Parameterise your system and run a quick simulation | OpenFF Interchange, OpenMM\n",
    "| Rapidly assign partial charges with a graph neural network model | OpenFF Toolkit, OpenFF NAGL Models\n",
    "\n"
   ]
  },
  {
   "cell_type": "markdown",
   "id": "32c4b5c9",
   "metadata": {},
   "source": [
    "## 1. Force fields are specified in `.offxml` files and can be loaded with the `ForceField` class\n",
    "\n",
    "OpenFF's force fields use the The SMIRks Native Open Force Field (SMIRNOFF) [specification](https://openforcefield.github.io/standards/standards/smirnoff/) and are conventionally encoded in `.offxml` files. The spec fully describes the contents of a SMIRNOFF force field, how parameters should be applied, and several other important usage details. You could implement a SMIRNOFF engine in your own code, but conveniently the OpenFF Toolkit already provides this and a handful of utilities. Let's load up the latest OpenFF small molecule force field, OpenFF 2.2.1, and inspect its contents! This force field shares the code name \"Sage\" with all other force fields with the same major version number (2.x.x)."
   ]
  },
  {
   "cell_type": "code",
   "execution_count": 1,
   "id": "bed5518d",
   "metadata": {},
   "outputs": [
    {
     "name": "stderr",
     "output_type": "stream",
     "text": [
      "/home/campus.ncl.ac.uk/nfc78/miniforge3/envs/openff-env/lib/python3.12/site-packages/smirnoff99frosst/smirnoff99frosst.py:11: UserWarning: pkg_resources is deprecated as an API. See https://setuptools.pypa.io/en/latest/pkg_resources.html. The pkg_resources package is slated for removal as early as 2025-11-30. Refrain from using this package or pin to Setuptools<81.\n",
      "  from pkg_resources import resource_filename\n"
     ]
    },
    {
     "data": {
      "text/plain": [
       "<openff.toolkit.typing.engines.smirnoff.forcefield.ForceField at 0x7ca2741a0860>"
      ]
     },
     "execution_count": 1,
     "metadata": {},
     "output_type": "execute_result"
    }
   ],
   "source": [
    "from openff.toolkit import ForceField\n",
    "\n",
    "sage = ForceField(\"openff-2.2.1.offxml\")\n",
    "sage"
   ]
  },
  {
   "cell_type": "markdown",
   "id": "52c754d3",
   "metadata": {},
   "source": [
    "If you'd like to see the raw file on disk that's being parsed, [here's the file on GitHub](https://github.com/openforcefield/openff-forcefields/blob/main/openforcefields/offxml/openff-2.2.1.offxml)."
   ]
  },
  {
   "cell_type": "markdown",
   "id": "c5868377",
   "metadata": {},
   "source": [
    "Each section of a force field is stored in memory within `ParameterHandler` objects, which can be looked up with brackets (just like looking up values in a dictionary):"
   ]
  },
  {
   "cell_type": "code",
   "execution_count": 5,
   "id": "7a2b7d90",
   "metadata": {},
   "outputs": [
    {
     "name": "stdout",
     "output_type": "stream",
     "text": [
      "['Constraints', 'Bonds', 'Angles', 'ProperTorsions', 'ImproperTorsions', 'vdW', 'Electrostatics', 'LibraryCharges', 'ToolkitAM1BCC']\n"
     ]
    },
    {
     "data": {
      "text/plain": [
       "<openff.toolkit.typing.engines.smirnoff.parameters.vdWHandler at 0x7c9feb4a3aa0>"
      ]
     },
     "execution_count": 5,
     "metadata": {},
     "output_type": "execute_result"
    }
   ],
   "source": [
    "print(sage.registered_parameter_handlers)\n",
    "\n",
    "vdw_handler = sage[\"vdW\"]\n",
    "vdw_handler"
   ]
  },
  {
   "cell_type": "markdown",
   "id": "b20e6b8c",
   "metadata": {},
   "source": [
    "Each `ParameterHandler` in turn stores a list of parameters in its `.parameters` attribute, in addition to some information specific to its portion of the potential energy function:"
   ]
  },
  {
   "cell_type": "code",
   "execution_count": 6,
   "id": "a523da9e",
   "metadata": {},
   "outputs": [
    {
     "data": {
      "text/plain": [
       "[<vdWType with smirks: [#1:1]  epsilon: 0.0157 kilocalorie / mole  id: n1  rmin_half: 0.6 angstrom  >,\n",
       " <vdWType with smirks: [#1:1]-[#6X4]  epsilon: 0.01577948280971 kilocalorie / mole  id: n2  rmin_half: 1.48419980825 angstrom  >,\n",
       " <vdWType with smirks: [#1:1]-[#6X4]-[#7,#8,#9,#16,#17,#35]  epsilon: 0.01640924602775 kilocalorie / mole  id: n3  rmin_half: 1.449786411317 angstrom  >,\n",
       " <vdWType with smirks: [#1:1]-[#6X4](-[#7,#8,#9,#16,#17,#35])-[#7,#8,#9,#16,#17,#35]  epsilon: 0.0157 kilocalorie / mole  id: n4  rmin_half: 1.287 angstrom  >,\n",
       " <vdWType with smirks: [#1:1]-[#6X4](-[#7,#8,#9,#16,#17,#35])(-[#7,#8,#9,#16,#17,#35])-[#7,#8,#9,#16,#17,#35]  epsilon: 0.0157 kilocalorie / mole  id: n5  rmin_half: 1.187 angstrom  >,\n",
       " <vdWType with smirks: [#1:1]-[#6X4]~[*+1,*+2]  epsilon: 0.0157 kilocalorie / mole  id: n6  rmin_half: 1.1 angstrom  >,\n",
       " <vdWType with smirks: [#1:1]-[#6X3]  epsilon: 0.01561134320353 kilocalorie / mole  id: n7  rmin_half: 1.443812569645 angstrom  >,\n",
       " <vdWType with smirks: [#1:1]-[#6X3]~[#7,#8,#9,#16,#17,#35]  epsilon: 0.01310699839698 kilocalorie / mole  id: n8  rmin_half: 1.377051329051 angstrom  >,\n",
       " <vdWType with smirks: [#1:1]-[#6X3](~[#7,#8,#9,#16,#17,#35])~[#7,#8,#9,#16,#17,#35]  epsilon: 0.01479744504464 kilocalorie / mole  id: n9  rmin_half: 1.370482808197 angstrom  >,\n",
       " <vdWType with smirks: [#1:1]-[#6X2]  epsilon: 0.015 kilocalorie / mole  id: n10  rmin_half: 1.459 angstrom  >,\n",
       " <vdWType with smirks: [#1:1]-[#7]  epsilon: 0.01409081474669 kilocalorie / mole  id: n11  rmin_half: 0.6192778454102 angstrom  >,\n",
       " <vdWType with smirks: [#1:1]-[#8]  epsilon: 1.232599966667e-05 kilocalorie / mole  id: n12  rmin_half: 0.2999999999997 angstrom  >,\n",
       " <vdWType with smirks: [#1:1]-[#16]  epsilon: 0.0157 kilocalorie / mole  id: n13  rmin_half: 0.6 angstrom  >,\n",
       " <vdWType with smirks: [#6:1]  epsilon: 0.0868793154488 kilocalorie / mole  id: n14  rmin_half: 1.953447017081 angstrom  >,\n",
       " <vdWType with smirks: [#6X2:1]  epsilon: 0.21 kilocalorie / mole  id: n15  rmin_half: 1.908 angstrom  >,\n",
       " <vdWType with smirks: [#6X4:1]  epsilon: 0.1088406109251 kilocalorie / mole  id: n16  rmin_half: 1.896698071741 angstrom  >,\n",
       " <vdWType with smirks: [#8:1]  epsilon: 0.2102061007896 kilocalorie / mole  id: n17  rmin_half: 1.706036917087 angstrom  >,\n",
       " <vdWType with smirks: [#8X2H0+0:1]  epsilon: 0.1684651402602 kilocalorie / mole  id: n18  rmin_half: 1.697783613804 angstrom  >,\n",
       " <vdWType with smirks: [#8X2H1+0:1]  epsilon: 0.2094735324129 kilocalorie / mole  id: n19  rmin_half: 1.682099169199 angstrom  >,\n",
       " <vdWType with smirks: [#7:1]  epsilon: 0.1676915150424 kilocalorie / mole  id: n20  rmin_half: 1.799798315098 angstrom  >,\n",
       " <vdWType with smirks: [#16:1]  epsilon: 0.25 kilocalorie / mole  id: n21  rmin_half: 2.0 angstrom  >,\n",
       " <vdWType with smirks: [#15:1]  epsilon: 0.2 kilocalorie / mole  id: n22  rmin_half: 2.1 angstrom  >,\n",
       " <vdWType with smirks: [#9:1]  epsilon: 0.061 kilocalorie / mole  id: n23  rmin_half: 1.75 angstrom  >,\n",
       " <vdWType with smirks: [#17:1]  epsilon: 0.2656001046527 kilocalorie / mole  id: n24  rmin_half: 1.85628721824 angstrom  >,\n",
       " <vdWType with smirks: [#35:1]  epsilon: 0.3218986365974 kilocalorie / mole  id: n25  rmin_half: 1.969806594135 angstrom  >,\n",
       " <vdWType with smirks: [#53:1]  epsilon: 0.4 kilocalorie / mole  id: n26  rmin_half: 2.35 angstrom  >,\n",
       " <vdWType with smirks: [#3+1:1]  epsilon: 0.0279896 kilocalorie / mole  id: n27  rmin_half: 1.025 angstrom  >,\n",
       " <vdWType with smirks: [#11+1:1]  epsilon: 0.0874393 kilocalorie / mole  id: n28  rmin_half: 1.369 angstrom  >,\n",
       " <vdWType with smirks: [#19+1:1]  epsilon: 0.1936829 kilocalorie / mole  id: n29  rmin_half: 1.705 angstrom  >,\n",
       " <vdWType with smirks: [#37+1:1]  epsilon: 0.3278219 kilocalorie / mole  id: n30  rmin_half: 1.813 angstrom  >,\n",
       " <vdWType with smirks: [#55+1:1]  epsilon: 0.4065394 kilocalorie / mole  id: n31  rmin_half: 1.976 angstrom  >,\n",
       " <vdWType with smirks: [#9X0-1:1]  epsilon: 0.003364 kilocalorie / mole  id: n32  rmin_half: 2.303 angstrom  >,\n",
       " <vdWType with smirks: [#17X0-1:1]  epsilon: 0.035591 kilocalorie / mole  id: n33  rmin_half: 2.513 angstrom  >,\n",
       " <vdWType with smirks: [#35X0-1:1]  epsilon: 0.0586554 kilocalorie / mole  id: n34  rmin_half: 2.608 angstrom  >,\n",
       " <vdWType with smirks: [#53X0-1:1]  epsilon: 0.0536816 kilocalorie / mole  id: n35  rmin_half: 2.86 angstrom  >,\n",
       " <vdWType with smirks: [#1]-[#8X2H2+0:1]-[#1]  epsilon: 0.1521 kilocalorie / mole  id: n-tip3p-O  sigma: 3.1507 angstrom  >,\n",
       " <vdWType with smirks: [#1:1]-[#8X2H2+0]-[#1]  epsilon: 0.0 kilocalorie / mole  id: n-tip3p-H  sigma: 1 angstrom  >,\n",
       " <vdWType with smirks: [#54:1]  epsilon: 0.561 kilocalorie / mole  id: n36  sigma: 4.363 angstrom  >]"
      ]
     },
     "execution_count": 6,
     "metadata": {},
     "output_type": "execute_result"
    }
   ],
   "source": [
    "(vdw_handler.cutoff, vdw_handler.combining_rules, vdw_handler.scale14)\n",
    "\n",
    "vdw_handler.parameters"
   ]
  },
  {
   "cell_type": "markdown",
   "id": "92dd8cb2",
   "metadata": {},
   "source": [
    "From here you can inspect all the way down to individual parameters, which are stored in custom objects (in this case, `vdWType`). Let's look at the type with id `n16`, which looks like a generic carbon with four bonded neighbors:"
   ]
  },
  {
   "cell_type": "code",
   "execution_count": 8,
   "id": "9ce55a28",
   "metadata": {},
   "outputs": [
    {
     "data": {
      "text/plain": [
       "<vdWType with smirks: [#6X4:1]  epsilon: 0.1088406109251 kilocalorie / mole  id: n16  rmin_half: 1.896698071741 angstrom  >"
      ]
     },
     "execution_count": 8,
     "metadata": {},
     "output_type": "execute_result"
    }
   ],
   "source": [
    "vdw_type = vdw_handler.parameters[15]\n",
    "vdw_type"
   ]
  },
  {
   "cell_type": "markdown",
   "id": "31338f27",
   "metadata": {},
   "source": [
    "Note that the type contains both the physical parameters (sigma and epsilon, for a conventional 12-6 Lennard-Jones potential), but also an associated SMIRKS pattern. This particular SMIRKS pattern is fairly simple, but some can get much more complex.\n",
    "\n",
    "The toolkit uses these SMIRKS patterns and direct chemical perception to assign parameters to particular atoms (or bonds, angles, etc.).\n",
    "\n",
    "We'll use OpenFF 2.2.1 for the remainder of this tutorial, but you can learn more about this and other SMIRNOFF force fields below:\n",
    "<details>\n",
    "  <summary><b>Click here to learn about available and planned SMIRNOFF force fields</b></summary>\n",
    "\n",
    "# Existing force fields\n",
    "\n",
    "## From OpenFF\n",
    "\n",
    "### smirnoff99Frosst\n",
    "\n",
    "This [force field](https://github.com/openforcefield/smirnoff99Frosst) is mostly a historical artifact today. It is the first SMIRNOFF force field, dating back to 2016. It is based on Merck-Frosst's [parm@frosst](http://www.ccl.net/cca/data/parm_at_Frosst/) and an old AMBER force field, parm99, which predates GAFF.\n",
    "\n",
    "It is not recommended for general use today, but you might see it in papers that compare the performance of different force fields.\n",
    "\n",
    "### Parsley\n",
    "\n",
    "The Parsley line of force fields (`openff-1.y.z.offxml`) was OpenFF's [first full force field release](https://openforcefield.org/community/news/general/introducing-openforcefield-1.0/). Based on `smirnoff99Frosst`, these force fields are primarily re-fits of valence parameters using a large number of QM structures pulled from QCArchive. The first version was 1.0.0 and subsequent re-fits produced versions 1.1.0, 1.2.0, and 1.3.0. More detail is provided in an [associated paper](https://pubs.acs.org/doi/10.1021/acs.jctc.1c00571).\n",
    "\n",
    "### Sage\n",
    "\n",
    "The Sage line of force fields (`openff-2.y.z.offxml`) continued the process of fitting to more (and more diverse) QM datasets, but also included a re-fit of the Lennard-Jones parameters. Small molecule geometries and energies [improved, in general,](https://openforcefield.org/community/news/general/sage2.0.0-release/) significantly over Parsley. These improvements notably transferred to protein-ligand binding free energies despite Sage not being specifically fit to them. For more, see the [associated paper](https://pubs.acs.org/doi/10.1021/acs.jctc.3c00039).\n",
    "\n",
    "[Subsequent releases](https://github.com/openforcefield/openff-forcefields/releases) used different fitting procedures and tweaks to parameter typing to improve performance and address issues with several specific chemistries. The latest release, **Sage 2.2.1 (`openff-2.2.1.offxml`) is the recommended force field for small molecule studies.**\n",
    "\n",
    "## Ports\n",
    "\n",
    "### Water models\n",
    "\n",
    "OpenFF has ported [several existing water models](https://github.com/openforcefield/openff-forcefields/blob/main/docs/water-models.md) to SMIRNOFF format, including:\n",
    "\n",
    "- TIP3P\n",
    "- TIP3P-FB\n",
    "- TIP4P-FB\n",
    "- OPC\n",
    "- OPC3\n",
    "\n",
    "Existing main-line OpenFF force fields are fit against TIP3P water, so use of others is not (currently) recommended. This might change in the future, or OpenFF might even fit a new water model in a future release.\n",
    "\n",
    "## ff14SB\n",
    "\n",
    "OpenFF, in collaboration with Dave Cerutti of the Amber community, created a port of [ff14SB](https://pubs.acs.org/doi/10.1021/acs.jctc.5b00255), a popular Amber protein force field. There are some small numberical differences with how improper torsions are evaluated, but all other terms reproduce a canonical Amber source to high accuracy. **This is the only protein force field currently in SMIRONOFF (`.offxml`) format** and therefore the current recommendation for use with proteins. Primarily for technical reasons, porting other Amber force fields is not planned.\n",
    "\n",
    "## Non-main-line force fields\n",
    "\n",
    "### SMIRNOFF plugins\n",
    "\n",
    "https://github.com/openforcefield/smirnoff-plugins\n",
    "\n",
    "https://github.com/jthorton/de-forcefields\n",
    "\n",
    "# Future force fields\n",
    "\n",
    "## From OpenFF\n",
    "\n",
    "### Rosemary\n",
    "A future line of force fields from OpenFF (code name \"Rosemary\", starting with `openff-3.0.0.offxml`) is intended to handle small molecules and biopolymers in a _self-consistent_ manner. The first release is expected to handle proteins, but future versions  may cover nucleic acids. The performance, depending on the metrics used, is hoped to be comparable with existing Amber-family protein force fields.\n",
    "\n",
    "There is no specific release date planned for Rosemary, but it may be available in 2026 (a beta release candidate may also be publically available prior to the full release).\n",
    "\n",
    "### Graph net charge assignment\n",
    "\n",
    "TODO: UPDAATE AND MENTION 2.3\n",
    "\n",
    "Another release, possibly in the Rosemary line, is intended to include graph-convolutional neutral network (GCNN)-based charge assignment using [NAGL](https://github.com/openforcefield/openff-nagl). Details are still being worked out, but it is expected to approximately reproduce AM1-BCC (or some variant) without the typical $O(N^3)$ scaling, making it suitable for large (>> 100 atoms) molecules).\n",
    "\n",
    "### Virtual sites\n",
    "\n",
    "Another release from OpenFF may include some virtual site parameters with off-center charges. No release date is planned, but the most of the supporting infrastructure is currently in place and some early studies have shown promise for better representing electrostatics of chemistries such as halogens and aromatic nitrogens.\n",
    "\n",
    "\n",
    "## From you!\n",
    "\n",
    "Anybody can write a SMIRNOFF force field! This workshop doesn't have time to cover force field _fitting_, but there are plenty of freely-available tools used today that can re-fit existing force fields or generate something new from the ground up. Once you've fit a new force field, a small Python package can distribute it in a way that the toolkit can [automatically load](https://docs.openforcefield.org/projects/toolkit/en/stable/faq.html#how-can-i-distribute-my-own-force-fields-in-smirnoff-format)!\n",
    "</details>"
   ]
  },
  {
   "cell_type": "markdown",
   "id": "18bc3a6b",
   "metadata": {},
   "source": [
    "## 2. The `Topology` class represents a chemical system containing one or more `Molecule`s\n",
    "\n",
    "Now we've loaded our desired force field (OpenFF 2.2.1), we need to specify the chemical system we want to assign force field parameters to (\"parameterise\"). Our system will be represented by a `Topology`, which we will build from one or more `Molecule`s. \n",
    "\n",
    "As a simple example, let's build a `Topology` containing a methanol molecule:"
   ]
  },
  {
   "cell_type": "code",
   "execution_count": null,
   "id": "0e845d1c",
   "metadata": {},
   "outputs": [
    {
     "data": {
      "image/svg+xml": [
       "<svg xmlns=\"http://www.w3.org/2000/svg\" xmlns:rdkit=\"http://www.rdkit.org/xml\" xmlns:xlink=\"http://www.w3.org/1999/xlink\" version=\"1.1\" baseProfile=\"full\" xml:space=\"preserve\" width=\"500px\" height=\"300px\" viewBox=\"0 0 500 300\">\n",
       "<!-- END OF HEADER -->\n",
       "<rect style=\"opacity:1.0;fill:#FFFFFF;stroke:none\" width=\"500.0\" height=\"300.0\" x=\"0.0\" y=\"0.0\"> </rect>\n",
       "<path class=\"bond-0 atom-0 atom-1\" d=\"M 314.9,177.1 L 259.0,209.5\" style=\"fill:none;fill-rule:evenodd;stroke:#000000;stroke-width:2.0px;stroke-linecap:butt;stroke-linejoin:miter;stroke-opacity:1\"/>\n",
       "<path class=\"bond-0 atom-0 atom-1\" d=\"M 259.0,209.5 L 203.1,241.8\" style=\"fill:none;fill-rule:evenodd;stroke:#FF0000;stroke-width:2.0px;stroke-linecap:butt;stroke-linejoin:miter;stroke-opacity:1\"/>\n",
       "<path class=\"bond-1 atom-0 atom-2\" d=\"M 314.9,177.1 L 250.9,66.4\" style=\"fill:none;fill-rule:evenodd;stroke:#000000;stroke-width:2.0px;stroke-linecap:butt;stroke-linejoin:miter;stroke-opacity:1\"/>\n",
       "<path class=\"bond-2 atom-0 atom-3\" d=\"M 314.9,177.1 L 378.7,66.3\" style=\"fill:none;fill-rule:evenodd;stroke:#000000;stroke-width:2.0px;stroke-linecap:butt;stroke-linejoin:miter;stroke-opacity:1\"/>\n",
       "<path class=\"bond-3 atom-0 atom-4\" d=\"M 314.9,177.1 L 428.7,242.7\" style=\"fill:none;fill-rule:evenodd;stroke:#000000;stroke-width:2.0px;stroke-linecap:butt;stroke-linejoin:miter;stroke-opacity:1\"/>\n",
       "<path class=\"bond-4 atom-1 atom-5\" d=\"M 167.2,241.8 L 119.2,214.2\" style=\"fill:none;fill-rule:evenodd;stroke:#FF0000;stroke-width:2.0px;stroke-linecap:butt;stroke-linejoin:miter;stroke-opacity:1\"/>\n",
       "<path class=\"bond-4 atom-1 atom-5\" d=\"M 119.2,214.2 L 71.3,186.6\" style=\"fill:none;fill-rule:evenodd;stroke:#000000;stroke-width:2.0px;stroke-linecap:butt;stroke-linejoin:miter;stroke-opacity:1\"/>\n",
       "<path class=\"atom-1\" d=\"M 172.1 252.3 Q 172.1 245.5, 175.5 241.7 Q 178.8 237.9, 185.1 237.9 Q 191.4 237.9, 194.8 241.7 Q 198.1 245.5, 198.1 252.3 Q 198.1 259.1, 194.7 263.1 Q 191.3 266.9, 185.1 266.9 Q 178.9 266.9, 175.5 263.1 Q 172.1 259.2, 172.1 252.3 M 185.1 263.7 Q 189.4 263.7, 191.8 260.9 Q 194.1 257.9, 194.1 252.3 Q 194.1 246.7, 191.8 243.9 Q 189.4 241.1, 185.1 241.1 Q 180.8 241.1, 178.4 243.9 Q 176.1 246.7, 176.1 252.3 Q 176.1 258.0, 178.4 260.9 Q 180.8 263.7, 185.1 263.7 \" fill=\"#FF0000\"/>\n",
       "<path class=\"atom-2\" d=\"M 228.7 33.2 L 232.6 33.2 L 232.6 45.2 L 247.0 45.2 L 247.0 33.2 L 250.9 33.2 L 250.9 61.5 L 247.0 61.5 L 247.0 48.4 L 232.6 48.4 L 232.6 61.5 L 228.7 61.5 L 228.7 33.2 \" fill=\"#000000\"/>\n",
       "<path class=\"atom-3\" d=\"M 378.6 33.1 L 382.5 33.1 L 382.5 45.1 L 397.0 45.1 L 397.0 33.1 L 400.8 33.1 L 400.8 61.4 L 397.0 61.4 L 397.0 48.3 L 382.5 48.3 L 382.5 61.4 L 378.6 61.4 L 378.6 33.1 \" fill=\"#000000\"/>\n",
       "<path class=\"atom-4\" d=\"M 433.7 237.8 L 437.5 237.8 L 437.5 249.9 L 452.0 249.9 L 452.0 237.8 L 455.9 237.8 L 455.9 266.1 L 452.0 266.1 L 452.0 253.1 L 437.5 253.1 L 437.5 266.1 L 433.7 266.1 L 433.7 237.8 \" fill=\"#000000\"/>\n",
       "<path class=\"atom-5\" d=\"M 44.1 163.2 L 48.0 163.2 L 48.0 175.2 L 62.5 175.2 L 62.5 163.2 L 66.3 163.2 L 66.3 191.5 L 62.5 191.5 L 62.5 178.4 L 48.0 178.4 L 48.0 191.5 L 44.1 191.5 L 44.1 163.2 \" fill=\"#000000\"/>\n",
       "</svg>"
      ],
      "text/plain": [
       "<IPython.core.display.SVG object>"
      ]
     },
     "metadata": {},
     "output_type": "display_data"
    }
   ],
   "source": [
    "from openff.toolkit import Molecule, Topology\n",
    "\n",
    "molecule = Molecule.from_smiles(\"CO\")\n",
    "molecule"
   ]
  },
  {
   "cell_type": "markdown",
   "id": "0f26debc",
   "metadata": {},
   "source": [
    "We can also visualise our molecule in 3D using NGLView, but only after generating 3D coordinates with `generate_conformers`:"
   ]
  },
  {
   "cell_type": "code",
   "execution_count": 44,
   "id": "99414ab2",
   "metadata": {},
   "outputs": [
    {
     "data": {
      "application/vnd.jupyter.widget-view+json": {
       "model_id": "edcb83422b8f42b6b58125c45e0c53cb",
       "version_major": 2,
       "version_minor": 0
      },
      "text/plain": [
       "NGLWidget()"
      ]
     },
     "metadata": {},
     "output_type": "display_data"
    }
   ],
   "source": [
    "molecule.generate_conformers(n_conformers=1)\n",
    "molecule.visualize(backend=\"nglview\")"
   ]
  },
  {
   "cell_type": "markdown",
   "id": "8b8cd0d8",
   "metadata": {},
   "source": [
    "<div class=\"alert alert-warning\" style=\"max-width: 700px; margin-left: auto; margin-right: auto;\">\n",
    "    ⚠️ Be careful when creating molecules from SMILES with undefined stereochemistry. By default, an `UndefinedStereochemistryError` will be raised, but this can be downgraded to a warning by setting the <code>allow_undefined_stereo=True</code>. This will create a molecule with undefined stereochemistry, which might lead to incorrect parameterisation or surprising conformer generation. See the <a href=\"https://docs.openforcefield.org/en/latest/faq.html\">\"I'm getting stereochemistry errors when loading a molecule from a SMILES string\" FAQ</a> for more details.\n",
    "</div>"
   ]
  },
  {
   "cell_type": "markdown",
   "id": "2073e744",
   "metadata": {},
   "source": [
    "Topologies can always be assembled by constructing individual molecules and adding them together; these methods are for making common operations easier.\n",
    "\n",
    "To convert a single `Molecule` to a `Topology`, you can use either `Molecule.to_topology()` or `Topology.from_molecules`"
   ]
  },
  {
   "cell_type": "code",
   "execution_count": null,
   "id": "41a8488c",
   "metadata": {},
   "outputs": [],
   "source": [
    "topology = molecule.to_topology()\n",
    "\n",
    "# Or, equivalently:\n",
    "topology = Topology.from_molecules(molecules=[molecule])"
   ]
  },
  {
   "cell_type": "markdown",
   "id": "aa4e2d80",
   "metadata": {},
   "source": [
    "From here we can add as many other molecules as we wish. For example, we can create a water molecule and it to a topology 100 times."
   ]
  },
  {
   "cell_type": "code",
   "execution_count": 117,
   "id": "7853e2ff",
   "metadata": {},
   "outputs": [
    {
     "data": {
      "text/plain": [
       "101"
      ]
     },
     "execution_count": 117,
     "metadata": {},
     "output_type": "execute_result"
    }
   ],
   "source": [
    "water = Molecule.from_smiles(\"O\")\n",
    "topology_with_water = Topology(topology)\n",
    "\n",
    "for index in range(100):\n",
    "    topology_with_water.add_molecule(water)\n",
    "\n",
    "topology_with_water.n_molecules"
   ]
  },
  {
   "cell_type": "markdown",
   "id": "7d62444c",
   "metadata": {},
   "source": [
    "<div class=\"alert alert-info\" style=\"max-width: 500px; margin-left: auto; margin-right: auto;\">\n",
    "    ℹ️ Positions are <i>optional</i> in <code>Molecule</code> (any by extension <code>Topology</code>) objects, so visualizing this topology in 3D doesn't make sense. Using it in a simulation would requiring assigning positions using a tool like Packmol or PDBFixer. Running simulations will be discussed this afternoon.\n",
    "</div>"
   ]
  },
  {
   "cell_type": "markdown",
   "id": "330be40f",
   "metadata": {},
   "source": [
    "Keeping in mind that topologies are just collections of molecules, we can look up individual molecules by index in the `Topology.molecule()` function."
   ]
  },
  {
   "cell_type": "code",
   "execution_count": 38,
   "id": "d4179c58",
   "metadata": {},
   "outputs": [
    {
     "data": {
      "text/plain": [
       "(Molecule with name '' and SMILES '[H][O][C]([H])([H])[H]',\n",
       " Molecule with name '' and SMILES '[H][O][H]',\n",
       " Molecule with name '' and SMILES '[H][O][H]')"
      ]
     },
     "execution_count": 38,
     "metadata": {},
     "output_type": "execute_result"
    }
   ],
   "source": [
    "topology.molecule(0), topology.molecule(1), topology.molecule(-1)"
   ]
  },
  {
   "cell_type": "markdown",
   "id": "50956de1",
   "metadata": {},
   "source": [
    "<div class=\"alert alert-success\" style=\"max-width: 500px; margin-left: auto; margin-right: auto; border-left: 6px solid #5cb85c; background-color: #f1fff1;\">\n",
    "    ✏️ <b>Exercise:</b> Build a <code>Topology</code> containing an MCL-1 ligand. Create the <code>Molecule</code> from an SDF file  (take a look at the docstring of <code>Molecule</code> to see how this can be done). Also, see <a href=\"https://docs.openforcefield.org/projects/toolkit/en/stable/users/molecule_cookbook.html\">Molecule cookbook</a> for all the ways to make a <code>Molecule</code>. TODO: Provide SDF?\n",
    "</div>\n"
   ]
  },
  {
   "cell_type": "code",
   "execution_count": 48,
   "id": "4673ba20",
   "metadata": {},
   "outputs": [
    {
     "name": "stdout",
     "output_type": "stream",
     "text": [
      "\u001b[31mInit signature:\u001b[39m Molecule(*args, **kwargs)\n",
      "\u001b[31mDocstring:\u001b[39m     \n",
      "Mutable chemical representation of a molecule, such as a small molecule or biopolymer.\n",
      "\n",
      ".. todo :: What other API calls would be useful for supporting biopolymers as small molecules? Perhaps iterating\n",
      "    over chains and residues?\n",
      "\n",
      "Examples\n",
      "--------\n",
      "\n",
      "Create a molecule from an sdf file\n",
      "\n",
      ">>> from openff.toolkit.utils import get_data_file_path\n",
      ">>> sdf_filepath = get_data_file_path('molecules/ethanol.sdf')\n",
      ">>> molecule = Molecule(sdf_filepath)\n",
      "\n",
      "Convert to OpenEye OEMol object\n",
      "\n",
      ">>> oemol = molecule.to_openeye()\n",
      "\n",
      "Create a molecule from an OpenEye molecule\n",
      "\n",
      ">>> molecule = Molecule.from_openeye(oemol)\n",
      "\n",
      "Convert to RDKit Mol object\n",
      "\n",
      ">>> rdmol = molecule.to_rdkit()\n",
      "\n",
      "Create a molecule from an RDKit molecule\n",
      "\n",
      ">>> molecule = Molecule.from_rdkit(rdmol)\n",
      "\n",
      "Create a molecule from IUPAC name (requires the OpenEye toolkit)\n",
      "\n",
      ">>> molecule = Molecule.from_iupac('imatinib')\n",
      "\n",
      "Create a molecule from SMILES\n",
      "\n",
      ">>> molecule = Molecule.from_smiles('Cc1ccccc1')\n",
      "\n",
      ".. warning :: This API is experimental and subject to change.\n",
      "\u001b[31mInit docstring:\u001b[39m\n",
      "See FrozenMolecule.__init__\n",
      "\n",
      ".. todo ::\n",
      "\n",
      "   * If a filename or file-like object is specified but the file\n",
      "     contains more than one molecule, what is the proper behavior?\n",
      "     Read just the first molecule, or raise an exception if more\n",
      "     than one molecule is found?\n",
      "\n",
      "   * Should we also support SMILES strings or IUPAC names for\n",
      "     ``other``?\n",
      "\u001b[31mFile:\u001b[39m           ~/miniforge3/envs/openff-env/lib/python3.12/site-packages/openff/toolkit/topology/molecule.py\n",
      "\u001b[31mType:\u001b[39m           ABCMeta\n",
      "\u001b[31mSubclasses:\u001b[39m     _HashedMolecule"
     ]
    }
   ],
   "source": [
    "# Inspect the Molecule docstring\n",
    "Molecule?"
   ]
  },
  {
   "cell_type": "code",
   "execution_count": null,
   "id": "c2da3ebc",
   "metadata": {},
   "outputs": [],
   "source": [
    "# Build your topology here..."
   ]
  },
  {
   "cell_type": "markdown",
   "id": "0c9e16d5",
   "metadata": {},
   "source": [
    "We will cover creating a topology for a protein-ligand complex this afternoon."
   ]
  },
  {
   "cell_type": "markdown",
   "id": "6bfee733",
   "metadata": {},
   "source": [
    "## 3. `Interchange` objects contain fully parameterised systems with all the information needed to start a simulation\n",
    "\n",
    "Now we're specified our force field and our chemical system using classes from the OpenFF Tools package (`ForceField`, `Molecule`, and `Topology`), and we want to apply our force field to our chemical topologies (parameterisation).\n",
    "\n",
    "To do this, we'll use the `Interchange` class from the OpenFF Interchange package, which stores a fully-parameterised molecular system and provides methods to write out simulation-ready input files for a number of software packages. They key objective of Interchange is to provide an intermediate inspectable state after parameterisation and before conversion to an engine-specific format. For most users, an `Interchange` forms the bridge between the OpenFF ecosystem and their simulation software of choice. The current focus is applying SMIRNOFF force fields to chemical topologies and exporting the result to engines preferred by our users. In order of stability, OpenMM, GROMACS, Amber, and LAMMPS are supported. Future development may include support for CHARMM and other engines.\n",
    "\n",
    "Below is a summary of how data flows through a workflow utilizing OpenFF tools, including where Interchange sits in the flow.\n",
    "\n",
    "TODO: Fix this image (tookit cut off etc)"
   ]
  },
  {
   "cell_type": "markdown",
   "id": "ddde1c2a",
   "metadata": {},
   "source": [
    "<img src=\"../images/interchange_flowchart.jpg\" alt=\"Description of image\" style=\"max-width: 1000px; display: block; margin-left: auto; margin-right: auto;\" />"
   ]
  },
  {
   "cell_type": "markdown",
   "id": "f667215a",
   "metadata": {},
   "source": [
    "An `Interchange` is most commonly constructed via the `Interchange.from_smirnoff()` class method. This method takes a SMIRNOFF force field and applies it to a molecular topology. \n",
    "\n"
   ]
  },
  {
   "cell_type": "code",
   "execution_count": 59,
   "id": "128f1060",
   "metadata": {},
   "outputs": [
    {
     "name": "stdout",
     "output_type": "stream",
     "text": [
      "\u001b[31mSignature:\u001b[39m\n",
      "Interchange.from_smirnoff(\n",
      "    force_field: \u001b[33m'ForceField'\u001b[39m,\n",
      "    topology: openff.toolkit.topology.topology.Topology | list[openff.toolkit.topology.molecule.Molecule],\n",
      "    box=\u001b[38;5;28;01mNone\u001b[39;00m,\n",
      "    positions=\u001b[38;5;28;01mNone\u001b[39;00m,\n",
      "    charge_from_molecules: list[openff.toolkit.topology.molecule.Molecule] | \u001b[38;5;28;01mNone\u001b[39;00m = \u001b[38;5;28;01mNone\u001b[39;00m,\n",
      "    partial_bond_orders_from_molecules: list[openff.toolkit.topology.molecule.Molecule] | \u001b[38;5;28;01mNone\u001b[39;00m = \u001b[38;5;28;01mNone\u001b[39;00m,\n",
      "    allow_nonintegral_charges: bool = \u001b[38;5;28;01mFalse\u001b[39;00m,\n",
      ") -> \u001b[33m'Interchange'\u001b[39m\n",
      "\u001b[31mDocstring:\u001b[39m\n",
      "Create a new object by parameterizing a topology with a SMIRNOFF force field.\n",
      "\n",
      "Parameters\n",
      "----------\n",
      "force_field : `openff.toolkit.ForceField`\n",
      "    The force field to parameterize the topology with.\n",
      "topology : `openff.toolkit.Topology` or `list[openff.toolkit.Molecule]`\n",
      "    The topology to parameterize, or a list of molecules to construct a\n",
      "    topology from and parameterize.\n",
      "box : `openff.units.Quantity`, optional\n",
      "    The box vectors associated with the ``Interchange``. If ``None``,\n",
      "    box vectors are taken from the topology, if present.\n",
      "positions : `openff.units.Quantity`, optional\n",
      "    The positions associated with atoms in the input topology. If ``None``,\n",
      "    positions are taken from the molecules in topology, if present on all molecules.\n",
      "charge_from_molecules : `list[openff.toolkit.molecule.Molecule]`, optional\n",
      "    If specified, partial charges for any molecules isomorphic to those\n",
      "    given will be taken from the given molecules' `partial_charges`\n",
      "    attribute instead of being determined by the force field. All\n",
      "    molecules in this list must have partial charges assigned and must\n",
      "    not be isomorphic with any other molecules in the list. For all values\n",
      "    of this argument, charges on the input topology are ignored.\n",
      "partial_bond_orders_from_molecules : list[openff.toolkit.molecule.Molecule], optional\n",
      "    If specified, partial bond orders will be taken from the given molecules\n",
      "    instead of being determined by the force field.\n",
      "allow_nonintegral_charges : bool, optional, default=False\n",
      "    If True, allow molecules to have approximately non-integral charges.\n",
      "\n",
      "Notes\n",
      "-----\n",
      "If the ``Molecule`` objects in the ``topology`` argument each contain\n",
      "conformers, the returned ``Interchange`` object will have its positions\n",
      "set via concatenating the 0th conformer of each ``Molecule``.\n",
      "\n",
      "If the ``Molecule`` objects in the ``topology`` argument have stored\n",
      "partial charges, these are ignored and charges are assigned according to\n",
      "the contents of the force field. To override the force field and use\n",
      "preset charges, use the ``charge_from_molecules`` argument.\n",
      "\n",
      "Examples\n",
      "--------\n",
      "Generate an Interchange object from a single-molecule (OpenFF) topology and\n",
      "OpenFF 2.0.0 \"Sage\"\n",
      "\n",
      ".. code-block:: pycon\n",
      "\n",
      "    >>> from openff.toolkit import ForceField, Molecule\n",
      "    >>> mol = Molecule.from_smiles(\"CC\")\n",
      "    >>> mol.generate_conformers(n_conformers=1)\n",
      "    >>> sage = ForceField(\"openff-2.0.0.offxml\")\n",
      "    >>> interchange = sage.create_interchange(mol.to_topology())\n",
      "    >>> interchange\n",
      "    Interchange with 7 collections, non-periodic topology with 8 atoms.\n",
      "\u001b[31mFile:\u001b[39m      ~/miniforge3/envs/openff-env/lib/python3.12/site-packages/openff/interchange/components/interchange.py\n",
      "\u001b[31mType:\u001b[39m      method"
     ]
    }
   ],
   "source": [
    "from openff.interchange import Interchange\n",
    "\n",
    "Interchange.from_smirnoff?"
   ]
  },
  {
   "cell_type": "code",
   "execution_count": 119,
   "id": "120ecf49",
   "metadata": {},
   "outputs": [
    {
     "data": {
      "text/plain": [
       "Interchange with 7 collections, non-periodic topology with 6 atoms."
      ]
     },
     "execution_count": 119,
     "metadata": {},
     "output_type": "execute_result"
    }
   ],
   "source": [
    "interchange = Interchange.from_smirnoff(\n",
    "    force_field=sage,\n",
    "    topology=topology,\n",
    ")\n",
    "interchange"
   ]
  },
  {
   "cell_type": "markdown",
   "id": "64dbbff8",
   "metadata": {},
   "source": [
    "<div class=\"alert alert-info\" style=\"max-width: 700px; margin-left: auto; margin-right: auto;\">\n",
    "    ℹ️ <code>ForceField.create_interchange(topology)</code> and <code>Interchange.from_smirnoff(force_field, topology)</code> do the same thing - one just wraps the other. You can use whichever, and interpret them as substitutes of one another.\n",
    "</div>"
   ]
  },
  {
   "cell_type": "markdown",
   "id": "efccb7d6",
   "metadata": {},
   "source": [
    "An `Interchange` object stores all information known about a system; this includes its chemistry, how that chemistry is represented by a force field, and how the system is organized in 3D space. It has five components:\n",
    "\n",
    "1. **Topology**: Stores chemical information, such as connectivity and formal charges, independently of force field\n",
    "1. **Collections**: Maps the chemical information to force field parameters. The force field itself is not directly stored\n",
    "1. **Positions** (optional): Cartesian co-ordinates of atoms\n",
    "1. **Box vectors** (optional): Periodicity information\n",
    "1. **Velocities** (optional): Cartesian velocities of atoms\n",
    "\n",
    "Let's inspect each of these.\n",
    "\n",
    "The `Interchange.topology` attribute carries an object of the same type provided by the toolkit and therefore provides the same API. (In the future this may change)."
   ]
  },
  {
   "cell_type": "code",
   "execution_count": 120,
   "id": "3bc285b0",
   "metadata": {},
   "outputs": [
    {
     "data": {
      "text/plain": [
       "(6, 5, '[H][O][C]([H])([H])[H]')"
      ]
     },
     "execution_count": 120,
     "metadata": {},
     "output_type": "execute_result"
    }
   ],
   "source": [
    "(\n",
    "    interchange.topology.n_atoms,\n",
    "    interchange.topology.n_bonds,\n",
    "    interchange.topology.molecule(0).to_smiles(),\n",
    ")"
   ]
  },
  {
   "cell_type": "markdown",
   "id": "3d412428",
   "metadata": {},
   "source": [
    "The `Interchange.collections` attribute carries a dictionary mapping handler names to `SMIRNOFFCollection` objects. These carry the physical parameters derived from applying the force field to the topology."
   ]
  },
  {
   "cell_type": "code",
   "execution_count": 121,
   "id": "840d7952",
   "metadata": {},
   "outputs": [
    {
     "data": {
      "text/plain": [
       "[('Bonds',\n",
       "  Handler 'Bonds' with expression 'k/2*(r-length)**2', 5 mapping keys, and 3 potentials),\n",
       " ('Constraints',\n",
       "  Handler 'Constraints' with expression '', 4 mapping keys, and 2 potentials),\n",
       " ('Angles',\n",
       "  Handler 'Angles' with expression 'k/2*(theta-angle)**2', 7 mapping keys, and 3 potentials),\n",
       " ('ProperTorsions',\n",
       "  Handler 'ProperTorsions' with expression 'k*(1+cos(periodicity*theta-phase))', 3 mapping keys, and 1 potentials),\n",
       " ('ImproperTorsions',\n",
       "  Handler 'ImproperTorsions' with expression 'k*(1+cos(periodicity*theta-phase))', 0 mapping keys, and 0 potentials),\n",
       " ('vdW',\n",
       "  Handler 'vdW' with expression '4*epsilon*((sigma/r)**12-(sigma/r)**6)', 6 mapping keys, and 4 potentials),\n",
       " ('Electrostatics',\n",
       "  Handler 'Electrostatics' with expression 'coul', 6 mapping keys, and 6 potentials)]"
      ]
     },
     "execution_count": 121,
     "metadata": {},
     "output_type": "execute_result"
    }
   ],
   "source": [
    "[(key, value) for key, value in interchange.collections.items()]"
   ]
  },
  {
   "cell_type": "markdown",
   "id": "188fa2d8",
   "metadata": {},
   "source": [
    "Note that each `SMIRNOFFCollection` specifies an algebraic expression which is used to compute the potential energy."
   ]
  },
  {
   "cell_type": "markdown",
   "id": "a5d1cdd1",
   "metadata": {},
   "source": [
    "Let's quickly visualize this molecule with atom indices -- this is helpful for looking up particular parameters."
   ]
  },
  {
   "cell_type": "code",
   "execution_count": 122,
   "id": "b5412fb8",
   "metadata": {},
   "outputs": [
    {
     "data": {
      "image/svg+xml": [
       "<svg xmlns=\"http://www.w3.org/2000/svg\" xmlns:rdkit=\"http://www.rdkit.org/xml\" xmlns:xlink=\"http://www.w3.org/1999/xlink\" version=\"1.1\" baseProfile=\"full\" xml:space=\"preserve\" width=\"300px\" height=\"300px\" viewBox=\"0 0 300 300\">\n",
       "<!-- END OF HEADER -->\n",
       "<rect style=\"opacity:1.0;fill:#FFFFFF;stroke:none\" width=\"300.0\" height=\"300.0\" x=\"0.0\" y=\"0.0\"> </rect>\n",
       "<path class=\"bond-0 atom-0 atom-1\" d=\"M 149.5,177.0 L 148.9,177.4\" style=\"fill:none;fill-rule:evenodd;stroke:#000000;stroke-width:2.0px;stroke-linecap:butt;stroke-linejoin:miter;stroke-opacity:1\"/>\n",
       "<path class=\"bond-0 atom-0 atom-1\" d=\"M 148.9,177.4 L 148.3,177.7\" style=\"fill:none;fill-rule:evenodd;stroke:#FF0000;stroke-width:2.0px;stroke-linecap:butt;stroke-linejoin:miter;stroke-opacity:1\"/>\n",
       "<path class=\"bond-1 atom-0 atom-2\" d=\"M 169.2,143.5 L 154.3,117.8\" style=\"fill:none;fill-rule:evenodd;stroke:#000000;stroke-width:2.0px;stroke-linecap:butt;stroke-linejoin:miter;stroke-opacity:1\"/>\n",
       "<path class=\"bond-2 atom-0 atom-3\" d=\"M 188.3,143.5 L 203.1,117.8\" style=\"fill:none;fill-rule:evenodd;stroke:#000000;stroke-width:2.0px;stroke-linecap:butt;stroke-linejoin:miter;stroke-opacity:1\"/>\n",
       "<path class=\"bond-3 atom-0 atom-4\" d=\"M 208.0,177.0 L 224.3,186.3\" style=\"fill:none;fill-rule:evenodd;stroke:#000000;stroke-width:2.0px;stroke-linecap:butt;stroke-linejoin:miter;stroke-opacity:1\"/>\n",
       "<path class=\"bond-4 atom-1 atom-5\" d=\"M 91.2,177.6 L 82.0,172.3\" style=\"fill:none;fill-rule:evenodd;stroke:#FF0000;stroke-width:2.0px;stroke-linecap:butt;stroke-linejoin:miter;stroke-opacity:1\"/>\n",
       "<path class=\"bond-4 atom-1 atom-5\" d=\"M 82.0,172.3 L 72.9,167.0\" style=\"fill:none;fill-rule:evenodd;stroke:#000000;stroke-width:2.0px;stroke-linecap:butt;stroke-linejoin:miter;stroke-opacity:1\"/>\n",
       "<path class=\"atom-0\" d=\"M 151.6 160.2 Q 151.6 153.2, 154.9 149.5 Q 158.2 145.8, 164.5 145.8 Q 170.3 145.8, 173.5 149.9 L 170.8 152.0 Q 168.5 149.0, 164.5 149.0 Q 160.2 149.0, 157.9 151.9 Q 155.7 154.8, 155.7 160.2 Q 155.7 165.8, 158.0 168.7 Q 160.4 171.6, 164.9 171.6 Q 168.1 171.6, 171.7 169.7 L 172.8 172.7 Q 171.3 173.6, 169.1 174.2 Q 166.9 174.8, 164.4 174.8 Q 158.2 174.8, 154.9 171.0 Q 151.6 167.2, 151.6 160.2 \" fill=\"#000000\"/>\n",
       "<path class=\"atom-0\" d=\"M 176.6 169.7 L 180.6 169.7 L 180.6 173.7 L 176.6 173.7 L 176.6 169.7 M 176.6 156.0 L 180.6 156.0 L 180.6 160.0 L 176.6 160.0 L 176.6 156.0 \" fill=\"#000000\"/>\n",
       "<path class=\"atom-0\" d=\"M 195.5 174.7 Q 190.3 174.7, 187.7 170.9 Q 185.2 167.0, 185.2 160.2 Q 185.2 153.4, 187.7 149.6 Q 190.3 145.8, 195.5 145.8 Q 200.8 145.8, 203.3 149.6 Q 205.9 153.4, 205.9 160.2 Q 205.9 167.0, 203.3 170.9 Q 200.7 174.7, 195.5 174.7 M 195.5 171.5 Q 198.6 171.5, 200.2 168.7 Q 201.9 165.8, 201.9 160.2 Q 201.9 154.6, 200.2 151.8 Q 198.6 149.0, 195.5 149.0 Q 192.5 149.0, 190.8 151.8 Q 189.2 154.6, 189.2 160.2 Q 189.2 165.8, 190.8 168.7 Q 192.5 171.5, 195.5 171.5 \" fill=\"#000000\"/>\n",
       "<path class=\"atom-1\" d=\"M 92.3 194.2 Q 92.3 187.4, 95.7 183.6 Q 99.0 179.8, 105.3 179.8 Q 111.6 179.8, 115.0 183.6 Q 118.3 187.4, 118.3 194.2 Q 118.3 201.1, 114.9 205.0 Q 111.5 208.9, 105.3 208.9 Q 99.1 208.9, 95.7 205.0 Q 92.3 201.1, 92.3 194.2 M 105.3 205.7 Q 109.6 205.7, 112.0 202.8 Q 114.3 199.9, 114.3 194.2 Q 114.3 188.6, 112.0 185.8 Q 109.6 183.0, 105.3 183.0 Q 101.0 183.0, 98.6 185.8 Q 96.3 188.6, 96.3 194.2 Q 96.3 199.9, 98.6 202.8 Q 101.0 205.7, 105.3 205.7 \" fill=\"#FF0000\"/>\n",
       "<path class=\"atom-1\" d=\"M 121.9 203.8 L 125.9 203.8 L 125.9 207.8 L 121.9 207.8 L 121.9 203.8 M 121.9 190.0 L 125.9 190.0 L 125.9 194.0 L 121.9 194.0 L 121.9 190.0 \" fill=\"#FF0000\"/>\n",
       "<path class=\"atom-1\" d=\"M 132.0 205.2 L 138.2 205.2 L 138.2 184.1 L 131.4 186.2 L 130.5 183.8 L 139.1 180.0 L 142.0 180.4 L 142.0 205.2 L 147.5 205.2 L 147.5 208.4 L 132.0 208.4 L 132.0 205.2 \" fill=\"#FF0000\"/>\n",
       "<path class=\"atom-2\" d=\"M 99.6 87.3 L 103.4 87.3 L 103.4 99.3 L 117.9 99.3 L 117.9 87.3 L 121.8 87.3 L 121.8 115.6 L 117.9 115.6 L 117.9 102.5 L 103.4 102.5 L 103.4 115.6 L 99.6 115.6 L 99.6 87.3 \" fill=\"#000000\"/>\n",
       "<path class=\"atom-2\" d=\"M 126.7 110.9 L 130.7 110.9 L 130.7 114.9 L 126.7 114.9 L 126.7 110.9 M 126.7 97.1 L 130.7 97.1 L 130.7 101.1 L 126.7 101.1 L 126.7 97.1 \" fill=\"#000000\"/>\n",
       "<path class=\"atom-2\" d=\"M 135.3 92.6 Q 136.3 89.9, 138.8 88.5 Q 141.3 86.9, 144.7 86.9 Q 149.0 86.9, 151.4 89.3 Q 153.8 91.6, 153.8 95.7 Q 153.8 99.9, 150.7 103.8 Q 147.6 107.7, 141.2 112.4 L 154.3 112.4 L 154.3 115.6 L 135.2 115.6 L 135.2 112.9 Q 140.5 109.1, 143.6 106.3 Q 146.7 103.5, 148.3 101.0 Q 149.8 98.5, 149.8 95.9 Q 149.8 93.2, 148.4 91.7 Q 147.1 90.1, 144.7 90.1 Q 142.4 90.1, 140.9 91.1 Q 139.4 92.0, 138.3 94.0 L 135.3 92.6 \" fill=\"#000000\"/>\n",
       "<path class=\"atom-3\" d=\"M 201.6 87.2 L 205.4 87.2 L 205.4 99.2 L 219.9 99.2 L 219.9 87.2 L 223.8 87.2 L 223.8 115.5 L 219.9 115.5 L 219.9 102.4 L 205.4 102.4 L 205.4 115.5 L 201.6 115.5 L 201.6 87.2 \" fill=\"#000000\"/>\n",
       "<path class=\"atom-3\" d=\"M 228.7 110.8 L 232.7 110.8 L 232.7 114.8 L 228.7 114.8 L 228.7 110.8 M 228.7 97.1 L 232.7 97.1 L 232.7 101.1 L 228.7 101.1 L 228.7 97.1 \" fill=\"#000000\"/>\n",
       "<path class=\"atom-3\" d=\"M 250.8 100.6 Q 253.5 101.4, 254.9 103.2 Q 256.2 105.0, 256.2 107.8 Q 256.2 110.2, 255.0 112.0 Q 253.8 113.9, 251.6 114.9 Q 249.4 115.9, 246.5 115.9 Q 243.5 115.9, 241.2 114.9 Q 239.0 113.8, 237.2 111.6 L 239.5 109.3 Q 241.2 111.2, 242.7 112.0 Q 244.2 112.7, 246.5 112.7 Q 249.1 112.7, 250.7 111.4 Q 252.2 110.0, 252.2 107.7 Q 252.2 104.8, 250.6 103.6 Q 249.0 102.2, 245.5 102.2 L 243.5 102.2 L 243.5 99.4 L 245.3 99.4 Q 248.3 99.3, 250.0 98.0 Q 251.6 96.6, 251.6 94.1 Q 251.6 92.3, 250.3 91.2 Q 248.9 90.1, 246.6 90.1 Q 244.2 90.1, 242.7 90.9 Q 241.3 91.8, 240.2 93.9 L 237.4 92.4 Q 238.4 90.0, 240.8 88.5 Q 243.2 86.9, 246.6 86.9 Q 250.7 86.9, 253.2 88.8 Q 255.6 90.8, 255.6 94.1 Q 255.6 96.4, 254.4 98.0 Q 253.1 99.7, 250.8 100.6 \" fill=\"#000000\"/>\n",
       "<path class=\"atom-4\" d=\"M 226.6 179.9 L 230.4 179.9 L 230.4 191.9 L 244.9 191.9 L 244.9 179.9 L 248.7 179.9 L 248.7 208.2 L 244.9 208.2 L 244.9 195.1 L 230.4 195.1 L 230.4 208.2 L 226.6 208.2 L 226.6 179.9 \" fill=\"#000000\"/>\n",
       "<path class=\"atom-4\" d=\"M 253.7 203.5 L 257.7 203.5 L 257.7 207.5 L 253.7 207.5 L 253.7 203.5 M 253.7 189.7 L 257.7 189.7 L 257.7 193.7 L 253.7 193.7 L 253.7 189.7 \" fill=\"#000000\"/>\n",
       "<path class=\"atom-4\" d=\"M 280.7 198.5 L 284.1 198.5 L 284.1 201.7 L 280.7 201.7 L 280.7 208.2 L 277.0 208.2 L 277.0 201.7 L 262.3 201.7 L 262.3 199.1 L 274.7 179.9 L 280.7 179.9 L 280.7 198.5 M 267.0 198.5 L 277.0 198.5 L 277.0 182.4 L 267.0 198.5 \" fill=\"#000000\"/>\n",
       "<path class=\"atom-5\" d=\"M 15.9 146.0 L 19.7 146.0 L 19.7 158.1 L 34.2 158.1 L 34.2 146.0 L 38.0 146.0 L 38.0 174.3 L 34.2 174.3 L 34.2 161.3 L 19.7 161.3 L 19.7 174.3 L 15.9 174.3 L 15.9 146.0 \" fill=\"#000000\"/>\n",
       "<path class=\"atom-5\" d=\"M 43.0 169.7 L 47.0 169.7 L 47.0 173.7 L 43.0 173.7 L 43.0 169.7 M 43.0 155.9 L 47.0 155.9 L 47.0 159.9 L 43.0 159.9 L 43.0 155.9 \" fill=\"#000000\"/>\n",
       "<path class=\"atom-5\" d=\"M 61.7 156.6 Q 64.2 156.6, 66.3 157.7 Q 68.3 158.7, 69.5 160.7 Q 70.6 162.7, 70.6 165.4 Q 70.6 168.3, 69.2 170.4 Q 67.8 172.5, 65.5 173.6 Q 63.1 174.7, 60.5 174.7 Q 57.9 174.7, 55.5 173.7 Q 53.1 172.7, 51.5 170.9 L 53.9 168.4 Q 55.2 169.9, 57.0 170.7 Q 58.8 171.4, 60.6 171.4 Q 63.1 171.4, 64.9 169.9 Q 66.6 168.3, 66.6 165.5 Q 66.6 162.5, 64.9 161.1 Q 63.1 159.6, 60.4 159.6 Q 57.9 159.6, 55.1 160.7 L 52.9 159.7 L 54.3 146.0 L 68.9 146.0 L 68.5 149.2 L 57.6 149.2 L 56.7 157.6 Q 59.3 156.6, 61.7 156.6 \" fill=\"#000000\"/>\n",
       "</svg>"
      ],
      "text/plain": [
       "<IPython.core.display.SVG object>"
      ]
     },
     "execution_count": 122,
     "metadata": {},
     "output_type": "execute_result"
    }
   ],
   "source": [
    "from rdkit.Chem import Draw\n",
    "from openff.toolkit.topology import Molecule\n",
    "from IPython.display import SVG\n",
    "\n",
    "\n",
    "def mol_with_atom_index(molecule: Molecule, width: int = 300, height: int = 300) -> str:\n",
    "    molecule_copy = Molecule(molecule)\n",
    "    molecule_copy._conformers = None\n",
    "\n",
    "    rdmol = molecule_copy.to_rdkit()\n",
    "\n",
    "    # Build labels like \"C:0\", \"O:1\", \"H:2\", ...\n",
    "    atom_labels = {\n",
    "        atom.GetIdx(): f\"{atom.GetSymbol()}:{atom.GetIdx()}\"\n",
    "        for atom in rdmol.GetAtoms()\n",
    "    }\n",
    "\n",
    "    drawer = Draw.MolDraw2DSVG(width, height)\n",
    "    opts = drawer.drawOptions()\n",
    "    for idx, label in atom_labels.items():\n",
    "        opts.atomLabels[idx] = label\n",
    "\n",
    "    Draw.rdMolDraw2D.PrepareAndDrawMolecule(drawer, rdmol)\n",
    "    drawer.FinishDrawing()\n",
    "    return drawer.GetDrawingText()\n",
    "\n",
    "\n",
    "SVG(mol_with_atom_index(molecule))"
   ]
  },
  {
   "cell_type": "markdown",
   "id": "cf3513f3",
   "metadata": {},
   "source": [
    "The `key_map` attribute of a `SMIRNOFFCollection` maps a `TopologyKey` (such as a `BondKey`) to a `PotentialKey`, which identifies unique parameters:"
   ]
  },
  {
   "cell_type": "code",
   "execution_count": 170,
   "id": "dc8cc404",
   "metadata": {},
   "outputs": [
    {
     "data": {
      "text/plain": [
       "{BondKey with atom indices (0, 1): PotentialKey associated with handler 'Bonds' with id '[#6:1]-[#8:2]',\n",
       " BondKey with atom indices (0, 2): PotentialKey associated with handler 'Bonds' with id '[#6X4:1]-[#1:2]',\n",
       " BondKey with atom indices (0, 3): PotentialKey associated with handler 'Bonds' with id '[#6X4:1]-[#1:2]',\n",
       " BondKey with atom indices (0, 4): PotentialKey associated with handler 'Bonds' with id '[#6X4:1]-[#1:2]',\n",
       " BondKey with atom indices (1, 5): PotentialKey associated with handler 'Bonds' with id '[#8:1]-[#1:2]'}"
      ]
     },
     "execution_count": 170,
     "metadata": {},
     "output_type": "execute_result"
    }
   ],
   "source": [
    "collection = interchange.collections[\"Bonds\"]\n",
    "collection.key_map"
   ]
  },
  {
   "cell_type": "markdown",
   "id": "c1603b89",
   "metadata": {},
   "source": [
    "We can see that the C-O bond (indices (0,1)) is associated with a potential key with the SMIRKS pattern `[#6:1]-[#8:2]` (specifying any carbon single-bonded to an oxygen).\n",
    "\n",
    "To see the actual parmeters specified for this bond, we can look up the `Potential` objects using the `PotentialKey`s."
   ]
  },
  {
   "cell_type": "code",
   "execution_count": 171,
   "id": "0950df68",
   "metadata": {},
   "outputs": [
    {
     "name": "stdout",
     "output_type": "stream",
     "text": [
      "atom_indices=(0, 1) bond_order=None -> parameters={'k': <Quantity(517.86177, 'kilocalorie_per_mole / angstrom ** 2')>, 'length': <Quantity(1.42626649, 'angstrom')>} map_key=None\n",
      "atom_indices=(0, 2) bond_order=None -> parameters={'k': <Quantity(715.716502, 'kilocalorie_per_mole / angstrom ** 2')>, 'length': <Quantity(1.09397889, 'angstrom')>} map_key=None\n",
      "atom_indices=(0, 3) bond_order=None -> parameters={'k': <Quantity(715.716502, 'kilocalorie_per_mole / angstrom ** 2')>, 'length': <Quantity(1.09397889, 'angstrom')>} map_key=None\n",
      "atom_indices=(0, 4) bond_order=None -> parameters={'k': <Quantity(715.716502, 'kilocalorie_per_mole / angstrom ** 2')>, 'length': <Quantity(1.09397889, 'angstrom')>} map_key=None\n",
      "atom_indices=(1, 5) bond_order=None -> parameters={'k': <Quantity(1076.78291, 'kilocalorie_per_mole / angstrom ** 2')>, 'length': <Quantity(0.975374805, 'angstrom')>} map_key=None\n"
     ]
    }
   ],
   "source": [
    "for topology_key, potential_key in collection.key_map.items():\n",
    "    potential = collection.potentials[potential_key]\n",
    "    print(f\"{topology_key} -> {potential}\")"
   ]
  },
  {
   "cell_type": "markdown",
   "id": "c3b6ed56",
   "metadata": {},
   "source": [
    "So our C-O bond (indices (0,1)) has a force constant of 518 kcal mol<sup>-1</sup> Å<sup>-2</sup> and an equilibrium bond length of 1.43 Å. Note that the [`ForceField.label_molecules`](https://docs.openforcefield.org/projects/toolkit/en/stable/api/generated/openff.toolkit.typing.engines.smirnoff.ForceField.html#openff.toolkit.typing.engines.smirnoff.ForceField.label_molecules) method is also useful for checking which parameters will be applied to your molecule."
   ]
  },
  {
   "cell_type": "markdown",
   "id": "4d849db9",
   "metadata": {},
   "source": [
    "<div class=\"alert alert-success\" style=\"max-width: 500px; margin-left: auto; margin-right: auto; border-left: 6px solid #5cb85c; background-color: #f1fff1;\">\n",
    "    ✏️ <b>Exercise:</b> How many proper torsions do you expect to find in methanol? Check your answer by inspecting the <code>Interchange</code> object.\n",
    "</div>"
   ]
  },
  {
   "cell_type": "code",
   "execution_count": null,
   "id": "2fc49bda",
   "metadata": {},
   "outputs": [],
   "source": [
    "# Inspect the proper torsions applied in the Interchange object...\n"
   ]
  },
  {
   "cell_type": "markdown",
   "id": "8a554cc3",
   "metadata": {},
   "source": [
    "Finally, `interchange.box` and `interchange.velocities` are `None`, although `interchange.positions` is populated because we passed a topology with a molecule that had a defined conformer, so `from_smirnoff` set atomic positions from this information:"
   ]
  },
  {
   "cell_type": "code",
   "execution_count": 178,
   "id": "7a37d633",
   "metadata": {},
   "outputs": [
    {
     "data": {
      "text/plain": [
       "(<Quantity([[-0.03510003 -0.00050979 -0.0018054 ]\n",
       "  [ 0.09661929 -0.03669733 -0.02597133]\n",
       "  [-0.05984567  0.00616493  0.10523734]\n",
       "  [-0.09828633 -0.08131057 -0.0462329 ]\n",
       "  [-0.06630706  0.09288997 -0.05017582]\n",
       "  [ 0.1629198   0.01946279  0.01894811]], 'nanometer')>,\n",
       " None,\n",
       " None)"
      ]
     },
     "execution_count": 178,
     "metadata": {},
     "output_type": "execute_result"
    }
   ],
   "source": [
    "interchange.positions, interchange.box, interchange.velocities"
   ]
  },
  {
   "cell_type": "markdown",
   "id": "212385e0",
   "metadata": {},
   "source": [
    "We can create an OpenMM `Simulation` object from the `Interchange`. Note that since the `Interchange` only contains methanol and has no box vectors, this corresponds to a vacuum simulation. This probably isn't what you want, but let's run it for fun anyway -- we'll discuss running a solvated complex this afternoon."
   ]
  },
  {
   "cell_type": "code",
   "execution_count": 199,
   "id": "e3483c17",
   "metadata": {},
   "outputs": [
    {
     "name": "stdout",
     "output_type": "stream",
     "text": [
      "dcdplugin) detected standard 32-bit DCD file of native endianness\n",
      "dcdplugin) CHARMM format DCD file (also NAMD 2.1 and later)\n"
     ]
    },
    {
     "data": {
      "application/vnd.jupyter.widget-view+json": {
       "model_id": "88dc0264249f499c9a9dcd73ae7c9848",
       "version_major": 2,
       "version_minor": 0
      },
      "text/plain": [
       "NGLWidget(max_frame=187)"
      ]
     },
     "metadata": {},
     "output_type": "display_data"
    }
   ],
   "source": [
    "import openmm\n",
    "import openmm.unit\n",
    "from openff.interchange import Interchange\n",
    "import mdtraj\n",
    "import nglview\n",
    "\n",
    "\n",
    "def run_openmm(\n",
    "    interchange: Interchange,\n",
    "    reporter_frequency: int = 1000,\n",
    "    trajectory_name: str = \"preview.dcd\",\n",
    "):\n",
    "    simulation = interchange.to_openmm_simulation(\n",
    "        integrator=openmm.LangevinIntegrator(\n",
    "            300 * openmm.unit.kelvin,\n",
    "            1 / openmm.unit.picosecond,\n",
    "            0.002 * openmm.unit.picoseconds,\n",
    "        ),\n",
    "    )\n",
    "\n",
    "    dcd_reporter = openmm.app.DCDReporter(trajectory_name, reporter_frequency)\n",
    "    simulation.reporters.append(dcd_reporter)\n",
    "\n",
    "    simulation.context.setVelocitiesToTemperature(300 * openmm.unit.kelvin)\n",
    "    simulation.runForClockTime(5 * openmm.unit.second)\n",
    "\n",
    "\n",
    "def visualise_traj(\n",
    "    topology: Topology, filename: str = \"preview.dcd\"\n",
    ") -> nglview.NGLWidget:\n",
    "    \"\"\"Visualise a trajectory using nglview.\"\"\"\n",
    "    traj = mdtraj.load(\n",
    "        filename,\n",
    "        top=mdtraj.Topology.from_openmm(topology.to_openmm()),\n",
    "    )\n",
    "\n",
    "    # Superpose trajectory to the first frame\n",
    "    traj.superpose(traj, 0)\n",
    "\n",
    "    view = nglview.show_mdtraj(traj)\n",
    "\n",
    "    return view\n",
    "\n",
    "\n",
    "run_openmm(interchange)\n",
    "visualise_traj(interchange.topology)"
   ]
  },
  {
   "cell_type": "markdown",
   "id": "cafe7a15",
   "metadata": {},
   "source": [
    "<div class=\"alert alert-success\" style=\"max-width: 500px; margin-left: auto; margin-right: auto; border-left: 6px solid #5cb85c; background-color: #f1fff1;\">\n",
    "    ✏️ <b>Exercise:</b> Create an Interchange object for an MCL-1 ligand. Inspect the parameters assigned and run short simulation of the molecule in vacuum.\n",
    "</div>"
   ]
  },
  {
   "cell_type": "markdown",
   "id": "7dc471a0",
   "metadata": {},
   "source": [
    "## 4. Graph Neural Networks Allow Fast Assignment of Partial Charges\n",
    "\n",
    "You might notice that [Sage](https://github.com/openforcefield/openff-forcefields/blob/main/openforcefields/offxml/openff-2.2.1.offxml) doesn't contain tabulated charges for most atomic environments in the way it does for all other terms in the force field. Instead, it specifies:\n",
    "```\n",
    "<ToolkitAM1BCC version=\"0.3\"></ToolkitAM1BCC>\n",
    "```\n",
    "which means that partial charges will be calculated using the common AM1-BCC method. Charges from a semi-empirical quantum chemistry calculation (Austin Model 1) are corrected (bond charge correction) to approximate charges obtained by fitting to the electrostatic potential at the HF/6-31G* level (see [Jakalian et al.](https://onlinelibrary.wiley.com/doi/10.1002/(SICI)1096-987X(20000130)21:2%3C132::AID-JCC5%3E3.0.CO;2-P)). Unfortunately, AM1-BCC scales 𝒪(N<sup>2</sup>) in the number of atoms N, making it prohibitively slow for large molecules and biopolymers.\n",
    "\n",
    "Methods which assign partial charges using graph neural networks offer rapid assignment with better scaling. They also offer the possibility of going beyond traditionally affordable QM levels of theory by training to quickly reproduce charges from expensive calculations. For example, [EspalomaCharge](https://pubs.acs.org/doi/full/10.1021/acs.jpca.4c01287) is fit to AM1-BCC charges and offers 𝒪(N<sup>2</sup>) scaling, while [Adams et al.](https://chemrxiv.org/engage/chemrxiv/article-details/6839c94c3ba0887c33d2cd8e) trained models to reproduce atoms-in-molecules charges and electrostatic potentials obtained at a high level of theory. Here, we'll use OpenFF's [AshGC](https://zenodo.org/records/15770227/files/AshGC_methods_2025-06-30.pdf?download=1) model, which is trained to reproduce AM1-BCC charges."
   ]
  },
  {
   "cell_type": "markdown",
   "id": "ede41aef",
   "metadata": {},
   "source": [
    "<div class=\"alert alert-warning\" style=\"max-width: 700px; margin-left: auto; margin-right: auto;\">\n",
    "    ⚠️ OpenFF 2.2.1 has not been explicitly trained and validated with AshGC charges. However, the 2.3.0 release will be, as is expected imminently. AshGC charges will be used as default and will be specified in the <code>.offxml</code> file, so there will be no need to call <code>Molecule.assign_partial_charges</code> as shown below.\n",
    "</div>"
   ]
  },
  {
   "cell_type": "code",
   "execution_count": 234,
   "id": "3aa6d94d",
   "metadata": {},
   "outputs": [],
   "source": [
    "from openff.toolkit import Molecule, ForceField\n",
    "from openff.toolkit.utils.nagl_wrapper import NAGLToolkitWrapper\n",
    "\n",
    "# OpenFF NAGL store models as PyTorch files.\n",
    "ASH_GC_MODEL = \"openff-gnn-am1bcc-0.1.0-rc.3.pt\"\n",
    "molecule = Molecule(\"../structures/example_lig.sdf\")  # TODO: Use MCL-1 ligand here"
   ]
  },
  {
   "cell_type": "markdown",
   "id": "7fee80b9",
   "metadata": {},
   "source": [
    "First, let's assign charges the traditional way with AM1-BCC and check how long this takes..."
   ]
  },
  {
   "cell_type": "code",
   "execution_count": 218,
   "id": "d7cf1985",
   "metadata": {},
   "outputs": [
    {
     "name": "stdout",
     "output_type": "stream",
     "text": [
      "CPU times: user 55.1 ms, sys: 9.84 ms, total: 64.9 ms\n",
      "Wall time: 50.4 s\n"
     ]
    }
   ],
   "source": [
    "%%time\n",
    "molecule_am1bcc = Molecule(molecule)\n",
    "molecule_am1bcc.assign_partial_charges(\n",
    "    partial_charge_method=\"am1bcc\",\n",
    ")"
   ]
  },
  {
   "cell_type": "markdown",
   "id": "d751d584",
   "metadata": {},
   "source": [
    "Now, let's try AshGC"
   ]
  },
  {
   "cell_type": "code",
   "execution_count": 220,
   "id": "2a12fd84",
   "metadata": {},
   "outputs": [
    {
     "name": "stderr",
     "output_type": "stream",
     "text": [
      "[20:30:38] WARNING: Proton(s) added/removed\n",
      "\n"
     ]
    },
    {
     "name": "stdout",
     "output_type": "stream",
     "text": [
      "CPU times: user 11.9 s, sys: 0 ns, total: 11.9 s\n",
      "Wall time: 1.06 s\n"
     ]
    }
   ],
   "source": [
    "%%time\n",
    "molecule_ashgc = Molecule(molecule)\n",
    "molecule_ashgc.assign_partial_charges(\n",
    "    partial_charge_method=ASH_GC_MODEL,\n",
    "    toolkit_registry=NAGLToolkitWrapper(),\n",
    ")"
   ]
  },
  {
   "cell_type": "markdown",
   "id": "39515e35",
   "metadata": {},
   "source": [
    "Finally, let's create an `Interchange` with our AshGC charges, making sure to specify `charge_from_molecules` so that we don't replace them with `AM1BCC` charges:"
   ]
  },
  {
   "cell_type": "code",
   "execution_count": 214,
   "id": "a81cf535",
   "metadata": {},
   "outputs": [],
   "source": [
    "# normally when we call `ForceField.create_interchange` or `ForceField.create_openmm_system`, the toolkit will call\n",
    "# AmberTools or OEChem to assign partial charges, since that's what's in the force field file. A future OpenFF release\n",
    "# which uses NAGL for charge assignment will encode this instruction in the force field file itself, but until that we\n",
    "# can use the `charge_from_molecules` argument to tell it to use the charges that we just assigned# for more, see:\n",
    "# https://docs.openforcefield.org/projects/toolkit/en/stable/api/generated/openff.toolkit.typing.engines.smirnoff.ForceField.html#openff.toolkit.typing.engines.smirnoff.ForceField.create_openmm_system\n",
    "interchange = sage.create_interchange(\n",
    "    molecule.to_topology(),\n",
    "    charge_from_molecules=[molecule],\n",
    ")"
   ]
  },
  {
   "cell_type": "markdown",
   "id": "e18fe6a2",
   "metadata": {},
   "source": [
    "<div class=\"alert alert-success\" style=\"max-width: 500px; margin-left: auto; margin-right: auto; border-left: 6px solid #5cb85c; background-color: #f1fff1;\">\n",
    "    ✏️ <b>Exercise:</b> Compare the charges obtained with AM1-BCC and AshGC by looking at the <code>Molecule.partial_charges</code> attribute. How big are these differences on average? What is the largest difference? Which atom are these on?\n",
    "</div>"
   ]
  },
  {
   "cell_type": "code",
   "execution_count": null,
   "id": "8add64c6",
   "metadata": {},
   "outputs": [],
   "source": [
    "# Compare charges assigned with AM1-BCC and AshGC..."
   ]
  },
  {
   "cell_type": "markdown",
   "id": "a0bc891f",
   "metadata": {},
   "source": [
    "## 5. TODO: Add Summary"
   ]
  },
  {
   "cell_type": "markdown",
   "id": "b0ce0bd8",
   "metadata": {},
   "source": [
    "## 6. There's Lots More to OpenFF!\n",
    "\n",
    "A variety of example notebooks for OpenFF software are provided [here](https://docs.openforcefield.org/en/latest/examples.html). A few which are particularly relevant are:\n",
    "\n",
    "- [Compute conformer energies for a small molecule](https://docs.openforcefield.org/en/latest/examples/openforcefield/openff-toolkit/conformer_energies/conformer_energies.html)\n",
    "- [Modifying a SMIRNOFF force field](https://docs.openforcefield.org/en/latest/examples/openforcefield/openff-toolkit/forcefield_modification/forcefield_modification.html)\n",
    "- [Inspect parameters assigned to specific molecules](https://docs.openforcefield.org/en/latest/examples/openforcefield/openff-toolkit/inspect_assigned_parameters/inspect_assigned_parameters.html)"
   ]
  },
  {
   "cell_type": "markdown",
   "id": "a8c25ae8",
   "metadata": {},
   "source": [
    "<div class=\"alert alert-success\" style=\"max-width: 500px; margin-left: auto; margin-right: auto; border-left: 6px solid #5cb85c; background-color: #f1fff1;\">\n",
    "    ✏️ <b>Extra Exercises:</b> Based on the above tutorials, can you:\n",
    "            <ul>\n",
    "            <li>Generate several conformers for one of your MCL-1 ligands and compute their relative energies using OpenFF 2.2.1?</li>\n",
    "            <li>Modify OpenFF 2.2.1 to change some of the parameters applied to one of your MCL-1 ligands? Minimise the ligand with this new force field and see how your changes influence the conformation.</li>\n",
    "            <li>Analyse which parameters are shared and which are only applied to one or few molecules for a set of MCL-1 ligands?</li>\n",
    "            </ul>\n",
    "</div>"
   ]
  }
 ],
 "metadata": {
  "kernelspec": {
   "display_name": "openff-env",
   "language": "python",
   "name": "python3"
  },
  "language_info": {
   "codemirror_mode": {
    "name": "ipython",
    "version": 3
   },
   "file_extension": ".py",
   "mimetype": "text/x-python",
   "name": "python",
   "nbconvert_exporter": "python",
   "pygments_lexer": "ipython3",
   "version": "3.12.11"
  }
 },
 "nbformat": 4,
 "nbformat_minor": 5
}
